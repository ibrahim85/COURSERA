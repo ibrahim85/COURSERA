{
 "cells": [
  {
   "cell_type": "markdown",
   "metadata": {},
   "source": [
    "# Following Links in HTML Using BeautifulSoup"
   ]
  },
  {
   "cell_type": "markdown",
   "metadata": {},
   "source": [
    "##  Following Links in Python"
   ]
  },
  {
   "cell_type": "markdown",
   "metadata": {},
   "source": [
    "In this assignment you will write a Python program that expands on http://www.pythonlearn.com/code/urllinks.py. The program will use urllib to read the HTML from the data files below, extract the href= vaues from the anchor tags, scan for a tag that is in a particular position relative to the first name in the list, follow that link and repeat the process a number of times and report the last name you find.\n",
    "\n",
    "We provide two files for this assignment. One is a sample file where we give you the name for your testing and the other is the actual data you need to process for the assignment"
   ]
  },
  {
   "cell_type": "markdown",
   "metadata": {},
   "source": [
    "## Sample Code"
   ]
  },
  {
   "cell_type": "code",
   "execution_count": null,
   "metadata": {
    "collapsed": true
   },
   "outputs": [],
   "source": [
    "# http://www.pythonlearn.com/code/urllink2.py\n",
    "# Note - this code must run in Python 2.x and you must download\n",
    "# http://www.pythonlearn.com/code/BeautifulSoup.py\n",
    "# Into the same folder as this program\n",
    "\n",
    "import urllib\n",
    "from BeautifulSoup import *\n",
    "\n",
    "#url = raw_input('Enter - ')\n",
    "url = \"http://www.dr-chuck.com/\"\n",
    "html = urllib.urlopen(url).read()\n",
    "\n",
    "soup = BeautifulSoup(html)\n",
    "\n",
    "# Retrieve all of the anchor tags\n",
    "tags = soup('a')\n",
    "for tag in tags[0:3]:\n",
    "    # Look at the parts of a tag\n",
    "    print 'TAG:',tag\n",
    "    print 'URL:',tag.get('href', None)\n",
    "    print 'Contents:',tag.contents[0]\n",
    "    print 'Attrs:',tag.attrs"
   ]
  },
  {
   "cell_type": "markdown",
   "metadata": {},
   "source": [
    "## Sample Problem"
   ]
  },
  {
   "cell_type": "markdown",
   "metadata": {},
   "source": [
    "Start at http://pr4e.dr-chuck.com/tsugi/mod/python-data/data/known_by_Fikret.html \n",
    "Find the link at position 3 (the first name is 1). Follow that link. Repeat this process 4 times. The answer is the last name that you retrieve.\n",
    "Sequence of names: Fikret Montgomery Mhairade Butchi Anayah \n",
    "Last name in sequence: Anayah"
   ]
  },
  {
   "cell_type": "markdown",
   "metadata": {},
   "source": [
    "## Actual Problem"
   ]
  },
  {
   "cell_type": "markdown",
   "metadata": {},
   "source": [
    "Start at: http://pr4e.dr-chuck.com/tsugi/mod/python-data/data/known_by_Maree.html \n",
    "Find the link at position 18 (the first name is 1). Follow that link. Repeat this process 7 times. The answer is the last name that you retrieve.\n",
    "\n",
    "Hint: The first character of the name of the last page that you will load is: A"
   ]
  },
  {
   "cell_type": "markdown",
   "metadata": {},
   "source": [
    "## Strategy"
   ]
  },
  {
   "cell_type": "markdown",
   "metadata": {},
   "source": [
    "The web pages tweak the height between the links and hide the page after a few seconds to make it difficult for you to do the assignment without writing a Python program. But frankly with a little effort and patience you can overcome these attempts to make it a little harder to complete the assignment without writing a Python program. But that is not the point. The point is to write a clever Python program to solve the program."
   ]
  },
  {
   "cell_type": "markdown",
   "metadata": {},
   "source": [
    "## Sample Execution"
   ]
  },
  {
   "cell_type": "markdown",
   "metadata": {},
   "source": [
    "Here is a sample execution of a solution:\n",
    "\n",
    "$ python solution.py \n",
    "Enter URL: http://pr4e.dr-chuck.com/ ... /known_by_Fikret.html\n",
    "Enter count: 4\n",
    "Enter position: 3\n",
    "Retrieving: http://pr4e.dr-chuck.com/ ... /known_by_Fikret.html\n",
    "Retrieving: http://pr4e.dr-chuck.com/ ... /known_by_Montgomery.html\n",
    "Retrieving: http://pr4e.dr-chuck.com/ ... /known_by_Mhairade.html\n",
    "Retrieving: http://pr4e.dr-chuck.com/ ... /known_by_Butchi.html\n",
    "Last Url: http://pr4e.dr-chuck.com/ ... /known_by_Anayah.html\n",
    "\n",
    "The answer to the assignment for this execution is \"Anayah\"."
   ]
  },
  {
   "cell_type": "markdown",
   "metadata": {},
   "source": [
    "# Assignment Code"
   ]
  },
  {
   "cell_type": "code",
   "execution_count": 23,
   "metadata": {
    "collapsed": false
   },
   "outputs": [
    {
     "name": "stdout",
     "output_type": "stream",
     "text": [
      "Contents: Remo\n",
      "Contents: Kasi\n",
      "Contents: Meshach\n",
      "Contents: Kia\n",
      "Contents: Carmen\n",
      "Contents: Talha\n",
      "Contents: Adison\n"
     ]
    }
   ],
   "source": [
    "import urllib\n",
    "from BeautifulSoup import *\n",
    "\n",
    "def follow_the_link(position, repeat, url):\n",
    "    for x in range(repeat):\n",
    "        html = urllib.urlopen(url).read()\n",
    "        soup = BeautifulSoup(html)\n",
    "        tags = soup('a')\n",
    "        url = tags[position-1].get('href',None)\n",
    "        print 'Contents:',tags[position-1].contents[0]\n",
    "        \n",
    "\n",
    "\n",
    "#url = \"http://pr4e.dr-chuck.com/tsugi/mod/python-data/data/known_by_Fikret.html\" #Anayah, 3, 4\n",
    "url = \"http://pr4e.dr-chuck.com/tsugi/mod/python-data/data/known_by_Maree.html\" #name, 18, 7\n",
    "position = 18\n",
    "repeat = 7\n",
    "\n",
    "follow_the_link(position,repeat,url)\n"
   ]
  }
 ],
 "metadata": {
  "kernelspec": {
   "display_name": "Python 2",
   "language": "python",
   "name": "python2"
  },
  "language_info": {
   "codemirror_mode": {
    "name": "ipython",
    "version": 2
   },
   "file_extension": ".py",
   "mimetype": "text/x-python",
   "name": "python",
   "nbconvert_exporter": "python",
   "pygments_lexer": "ipython2",
   "version": "2.7.10"
  }
 },
 "nbformat": 4,
 "nbformat_minor": 0
}
