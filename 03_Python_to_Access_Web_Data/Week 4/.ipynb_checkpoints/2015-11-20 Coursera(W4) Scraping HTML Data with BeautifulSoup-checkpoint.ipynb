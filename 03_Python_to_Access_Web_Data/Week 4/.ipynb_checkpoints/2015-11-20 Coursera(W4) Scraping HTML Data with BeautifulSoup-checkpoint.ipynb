{
 "cells": [
  {
   "cell_type": "markdown",
   "metadata": {},
   "source": [
    "# Scraping Numbers from HTML using Beautiful Soup"
   ]
  },
  {
   "cell_type": "markdown",
   "metadata": {},
   "source": [
    "In this assignment you will write a Python program similar to http://www.pythonlearn.com/code/urllink2.py. The program will use urllib to read the HTML from the data files below, and parse the data, extracting numbers and compute the sum of the numbers in the file.\n",
    "\n",
    "We provide two files for this assignment. One is a sample file where we give you the sum for your testing and the other is the actual data you need to process for the assignment.\n",
    "\n",
    "Sample data: http://pr4e.dr-chuck.com/tsugi/mod/python-data/data/comments_42.html (Sum=2553)\n",
    "Actual data: http://pr4e.dr-chuck.com/tsugi/mod/python-data/data/comments_170001.html (Sum ends with 99)\n",
    "\n",
    "You do not need to save these files to your folder since your program will read the data directly from the URL. Note: Each student will have a distinct data url for the assignment - so only use your own data url for analysis."
   ]
  },
  {
   "cell_type": "markdown",
   "metadata": {},
   "source": [
    "## Sample Code"
   ]
  },
  {
   "cell_type": "code",
   "execution_count": 20,
   "metadata": {
    "collapsed": false
   },
   "outputs": [
    {
     "name": "stdout",
     "output_type": "stream",
     "text": [
      "TAG: <a href=\"http://www.dr-chuck.com/csev-blog/\">\n",
      "<img align=\"center\" src=\"csev_ian_dolphin_small.jpg\" width=\"160\" alt=\"Photo Credit: Ian Dolphin\" />\n",
      "</a>\n",
      "URL: http://www.dr-chuck.com/csev-blog/\n",
      "Contents: \n",
      "\n",
      "Attrs: [(u'href', u'http://www.dr-chuck.com/csev-blog/')]\n",
      "TAG: <a href=\"http://www.si.umich.edu/\" target=\"_blank\">School of Information</a>\n",
      "URL: http://www.si.umich.edu/\n",
      "Contents: School of Information\n",
      "Attrs: [(u'href', u'http://www.si.umich.edu/'), (u'target', u'_blank')]\n",
      "TAG: <a href=\"http://www.ratemyprofessors.com/ShowRatings.jsp?tid=1159280\" target=\"_blank\">\n",
      "<img src=\"/images/rate-my-professor.jpg\" width=\"140\" alt=\"Rate This Professor\" /></a>\n",
      "URL: http://www.ratemyprofessors.com/ShowRatings.jsp?tid=1159280\n",
      "Contents: \n",
      "\n",
      "Attrs: [(u'href', u'http://www.ratemyprofessors.com/ShowRatings.jsp?tid=1159280'), (u'target', u'_blank')]\n"
     ]
    }
   ],
   "source": [
    "# http://www.pythonlearn.com/code/urllink2.py\n",
    "# Note - this code must run in Python 2.x and you must download\n",
    "# http://www.pythonlearn.com/code/BeautifulSoup.py\n",
    "# Into the same folder as this program\n",
    "\n",
    "import urllib\n",
    "from BeautifulSoup import *\n",
    "\n",
    "#url = raw_input('Enter - ')\n",
    "url = \"http://www.dr-chuck.com/\"\n",
    "html = urllib.urlopen(url).read()\n",
    "\n",
    "soup = BeautifulSoup(html)\n",
    "\n",
    "# Retrieve all of the anchor tags\n",
    "tags = soup('a')\n",
    "for tag in tags[0:3]:\n",
    "    # Look at the parts of a tag\n",
    "    print 'TAG:',tag\n",
    "    print 'URL:',tag.get('href', None)\n",
    "    print 'Contents:',tag.contents[0]\n",
    "    print 'Attrs:',tag.attrs"
   ]
  },
  {
   "cell_type": "markdown",
   "metadata": {},
   "source": [
    "## Data Format"
   ]
  },
  {
   "cell_type": "markdown",
   "metadata": {},
   "source": [
    "The file is a table of names and comment counts. You can ignore most of the data in the file except for lines like the following:\n",
    "\n",
    "<tr><td>Modu</td><td><span class=\"comments\">90</span></td></tr>\n",
    "<tr><td>Kenzie</td><td><span class=\"comments\">88</span></td></tr>\n",
    "<tr><td>Hubert</td><td><span class=\"comments\">87</span></td></tr>\n",
    "\n",
    "You are to find all the <span> tags in the file and pull out the numbers from the tag and sum the numbers.\n",
    "Look at the sample code provided. It shows how to find all of a certain kind of tag, loop through the tags and extract the various aspects of the tags."
   ]
  },
  {
   "cell_type": "markdown",
   "metadata": {},
   "source": [
    "# Asignment Code"
   ]
  },
  {
   "cell_type": "code",
   "execution_count": 22,
   "metadata": {
    "collapsed": false
   },
   "outputs": [
    {
     "name": "stdout",
     "output_type": "stream",
     "text": [
      "Contents: 96\n",
      "Contents: 94\n",
      "Contents: 91\n",
      "Contents: 90\n",
      "Contents: 87\n",
      "Contents: 86\n",
      "Contents: 86\n",
      "Contents: 81\n",
      "Contents: 81\n",
      "Contents: 81\n",
      "Contents: 80\n",
      "Contents: 77\n",
      "Contents: 74\n",
      "Contents: 73\n",
      "Contents: 73\n",
      "Contents: 72\n",
      "Contents: 72\n",
      "Contents: 68\n",
      "Contents: 68\n",
      "Contents: 68\n",
      "Contents: 67\n",
      "Contents: 67\n",
      "Contents: 66\n",
      "Contents: 65\n",
      "Contents: 61\n",
      "Contents: 58\n",
      "Contents: 57\n",
      "Contents: 51\n",
      "Contents: 44\n",
      "Contents: 43\n",
      "Contents: 41\n",
      "Contents: 40\n",
      "Contents: 39\n",
      "Contents: 36\n",
      "Contents: 33\n",
      "Contents: 33\n",
      "Contents: 30\n",
      "Contents: 29\n",
      "Contents: 24\n",
      "Contents: 24\n",
      "Contents: 24\n",
      "Contents: 21\n",
      "Contents: 12\n",
      "Contents: 9\n",
      "Contents: 7\n",
      "Contents: 6\n",
      "Contents: 5\n",
      "Contents: 4\n",
      "Contents: 3\n",
      "Contents: 2\n",
      "2599\n"
     ]
    }
   ],
   "source": [
    "import urllib\n",
    "from BeautifulSoup import *\n",
    "\n",
    "#url = \"http://pr4e.dr-chuck.com/tsugi/mod/python-data/data/comments_170001.html\"\n",
    "#url = 'http://pr4e.dr-chuck.com/tsugi/mod/python-data/data/comments_42.html'\n",
    "#html_file = 'test1.html'\n",
    "html_file = 'assignment1.html'\n",
    "\n",
    "html = urllib.urlopen(html_file).read()\n",
    "\n",
    "soup = BeautifulSoup(html)\n",
    "\n",
    "# Retrieve all of the anchor tags\n",
    "tags = soup('span')\n",
    "total = 0\n",
    "for tag in tags:\n",
    "    print 'Contents:',tag.contents[0]\n",
    "    total += int(tag.contents[0])\n",
    "    \n",
    "print total"
   ]
  },
  {
   "cell_type": "code",
   "execution_count": null,
   "metadata": {
    "collapsed": true
   },
   "outputs": [],
   "source": []
  }
 ],
 "metadata": {
  "kernelspec": {
   "display_name": "Python 2",
   "language": "python",
   "name": "python2"
  },
  "language_info": {
   "codemirror_mode": {
    "name": "ipython",
    "version": 2
   },
   "file_extension": ".py",
   "mimetype": "text/x-python",
   "name": "python",
   "nbconvert_exporter": "python",
   "pygments_lexer": "ipython2",
   "version": "2.7.10"
  }
 },
 "nbformat": 4,
 "nbformat_minor": 0
}
